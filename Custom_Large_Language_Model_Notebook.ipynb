{
  "nbformat": 4,
  "nbformat_minor": 0,
  "metadata": {
    "colab": {
      "provenance": [],
      "authorship_tag": "ABX9TyMQxB5Y00rA3zVP4FGyIuV6",
      "include_colab_link": true
    },
    "kernelspec": {
      "name": "python3",
      "display_name": "Python 3"
    },
    "language_info": {
      "name": "python"
    }
  },
  "cells": [
    {
      "cell_type": "markdown",
      "metadata": {
        "id": "view-in-github",
        "colab_type": "text"
      },
      "source": [
        "<a href=\"https://colab.research.google.com/github/Njarrin/ToxicityTestingCapstonenelsonjarrin/blob/main/Custom_Large_Language_Model_Notebook.ipynb\" target=\"_parent\"><img src=\"https://colab.research.google.com/assets/colab-badge.svg\" alt=\"Open In Colab\"/></a>"
      ]
    },
    {
      "cell_type": "code",
      "source": [
        "import pandas as pd\n",
        "from google.colab import auth\n",
        "from google.cloud import storage\n",
        "import torch\n",
        "import torch.nn as nn\n",
        "from torch.utils.data import DataLoader, Dataset\n",
        "from transformers import AutoTokenizer, AutoModelForSequenceClassification, AdamW\n",
        "from sklearn.model_selection import train_test_split"
      ],
      "metadata": {
        "id": "PNp8vUjDGclS"
      },
      "execution_count": null,
      "outputs": []
    },
    {
      "cell_type": "code",
      "source": [
        "# 1. Load Training Data from Google Cloud Storage\n",
        "auth.authenticate_user()\n",
        "try:\n",
        "    client = storage.Client()\n",
        "    bucket = client.bucket('datasetforcapstonenelsonjarrin')\n",
        "    blob = bucket.blob('sampled_train_2.csv')\n",
        "    df_train = pd.read_csv(blob.open('r'))\n",
        "    print(\"Training data loaded successfully!\")\n",
        "    print(\"First 5 rows of training data:\")\n",
        "    print(df_train.head())\n",
        "    print(\"Columns in Training DataFrame:\", df_train.columns)\n",
        "except Exception as e:\n",
        "    print(f\"Error loading TRAINING DataFrame: {e}\")\n",
        "    exit()"
      ],
      "metadata": {
        "colab": {
          "base_uri": "https://localhost:8080/"
        },
        "id": "JWr7KuHPGgmN",
        "outputId": "e614e391-7d4e-41af-a880-4da83d91989d"
      },
      "execution_count": null,
      "outputs": [
        {
          "output_type": "stream",
          "name": "stdout",
          "text": [
            "Training data loaded successfully!\n",
            "First 5 rows of training data:\n",
            "                 id                                       comment_text  toxic  \\\n",
            "0  f470fbfb8a45a534  No they shouldn't.  Sublime is a ska band not ...      0   \n",
            "1  0e55e30fdf3a6c4b  To Wikipedia admins \\n\\nthis is a Internet sit...      0   \n",
            "2  89b2262b5e59ff03  what kinds of termination of war for world war 2?      0   \n",
            "3  8ef77637d30feaa5  Also, the article on hull number 1000 Zumwalt ...      0   \n",
            "4  e8577068eb6afd41  what don't you understand about fair use? does...      0   \n",
            "\n",
            "   severe_toxic  obscene  threat  insult  identity_hate  \n",
            "0             0        0       0       0              0  \n",
            "1             0        0       0       0              0  \n",
            "2             0        0       0       0              0  \n",
            "3             0        0       0       0              0  \n",
            "4             0        0       0       0              0  \n",
            "Columns in Training DataFrame: Index(['id', 'comment_text', 'toxic', 'severe_toxic', 'obscene', 'threat',\n",
            "       'insult', 'identity_hate'],\n",
            "      dtype='object')\n"
          ]
        }
      ]
    },
    {
      "cell_type": "code",
      "source": [
        "# 2. Load Testing Data from Google Cloud Storage\n",
        "try:\n",
        "    client = storage.Client()\n",
        "    bucket = client.bucket('datasetforcapstonenelsonjarrin')\n",
        "    blob = bucket.blob('unhealthy_test.csv')\n",
        "    df_test = pd.read_csv(blob.open('r'))\n",
        "    print(\"Testing data loaded successfully!\")\n",
        "    print(\"First 5 rows of testing data:\")\n",
        "    print(df_test.head())\n",
        "    print(\"Columns in Testing DataFrame:\", df_test.columns)\n",
        "except Exception as e:\n",
        "    print(f\"Error loading TESTING DataFrame: {e}\")\n",
        "    exit()"
      ],
      "metadata": {
        "colab": {
          "base_uri": "https://localhost:8080/"
        },
        "id": "eoeCKdgmGkIJ",
        "outputId": "3f3b30d4-460f-4bce-c156-dc55fc971587"
      },
      "execution_count": null,
      "outputs": [
        {
          "output_type": "stream",
          "name": "stdout",
          "text": [
            "Testing data loaded successfully!\n",
            "First 5 rows of testing data:\n",
            "     _unit_id  _trusted_judgments  \\\n",
            "0  1739450989                   3   \n",
            "1  1739442069                   5   \n",
            "2  1739464409                   3   \n",
            "3  1739447549                   5   \n",
            "4  1739466909                   3   \n",
            "\n",
            "                                             comment  antagonize  \\\n",
            "0  When you have Conservative members now feeling...           0   \n",
            "1  That's one of the problem, as Germany sent out...           0   \n",
            "2  Yesshe is, and if she was always and only refe...           0   \n",
            "3  There is nothing honourable about Stephen Harper.           1   \n",
            "4  What a pathetic piece of writing. I have no re...           0   \n",
            "\n",
            "   antagonize:confidence  condescending  condescending:confidence  dismissive  \\\n",
            "0                 1.0000              0                    1.0000           0   \n",
            "1                 0.7955              0                    1.0000           0   \n",
            "2                 1.0000              0                    1.0000           0   \n",
            "3                 0.6215              0                    0.5787           0   \n",
            "4                 1.0000              0                    1.0000           0   \n",
            "\n",
            "   dismissive:confidence  generalisation  generalisation:confidence  \\\n",
            "0                 1.0000               0                      1.000   \n",
            "1                 1.0000               0                      0.792   \n",
            "2                 1.0000               0                      1.000   \n",
            "3                 0.5787               0                      1.000   \n",
            "4                 1.0000               0                      1.000   \n",
            "\n",
            "   generalisation_unfair  generalisation_unfair:confidence  healthy  \\\n",
            "0                    0.0                               1.0        1   \n",
            "1                    0.0                               1.0        1   \n",
            "2                    0.0                               1.0        1   \n",
            "3                    0.0                               1.0        1   \n",
            "4                    0.0                               1.0        1   \n",
            "\n",
            "   healthy:confidence  hostile  hostile:confidence  sarcastic  \\\n",
            "0              1.0000        0              1.0000          0   \n",
            "1              0.7955        0              1.0000          0   \n",
            "2              1.0000        0              1.0000          0   \n",
            "3              0.5814        0              0.5948          0   \n",
            "4              1.0000        0              1.0000          0   \n",
            "\n",
            "   sarcastic:confidence  \n",
            "0                   1.0  \n",
            "1                   1.0  \n",
            "2                   1.0  \n",
            "3                   1.0  \n",
            "4                   1.0  \n",
            "Columns in Testing DataFrame: Index(['_unit_id', '_trusted_judgments', 'comment', 'antagonize',\n",
            "       'antagonize:confidence', 'condescending', 'condescending:confidence',\n",
            "       'dismissive', 'dismissive:confidence', 'generalisation',\n",
            "       'generalisation:confidence', 'generalisation_unfair',\n",
            "       'generalisation_unfair:confidence', 'healthy', 'healthy:confidence',\n",
            "       'hostile', 'hostile:confidence', 'sarcastic', 'sarcastic:confidence'],\n",
            "      dtype='object')\n"
          ]
        }
      ]
    },
    {
      "cell_type": "code",
      "source": [
        "# 3. Define Column Names and Check Existence\n",
        "text_column = \"comment_text\"  # Column containing text in training data\n",
        "label_column = \"toxic\"      # Column containing labels in training data\n",
        "test_text_column = \"comment\"   # Column containing text in testing data\n",
        "\n",
        "if text_column not in df_train.columns or label_column not in df_train.columns:\n",
        "    print(f\"Error: Columns '{text_column}' and/or '{label_column}' not found in TRAINING data.\")\n",
        "    exit()\n",
        "\n",
        "if test_text_column not in df_test.columns:\n",
        "    print(f\"Error: Column '{test_text_column}' not found in TESTING data.\")\n",
        "    exit()"
      ],
      "metadata": {
        "id": "8QmdXQjTGqhL"
      },
      "execution_count": null,
      "outputs": []
    },
    {
      "cell_type": "code",
      "source": [
        "# 4. Prepare Data for Training and Testing\n",
        "train_texts = df_train[text_column].tolist()\n",
        "train_labels = df_train[label_column].astype(int).tolist()\n",
        "test_texts = df_test[test_text_column].tolist()\n",
        "\n",
        "# Check if labels are available in the test data\n",
        "if \"toxic\" in df_test.columns:\n",
        "    test_labels = df_test[\"toxic\"].astype(int).tolist()\n",
        "else:\n",
        "    test_labels = None #if labels do not exist"
      ],
      "metadata": {
        "id": "RXjp3UchGtcN"
      },
      "execution_count": null,
      "outputs": []
    },
    {
      "cell_type": "code",
      "source": [
        "# 5. Dataset and Dataloader (Single-Label)\n",
        "class ToxicDataset(Dataset):\n",
        "    def __init__(self, texts, labels, tokenizer, max_len):\n",
        "        self.texts = texts\n",
        "        self.labels = labels\n",
        "        self.tokenizer = tokenizer\n",
        "        self.max_len = max_len\n",
        "\n",
        "    def __len__(self):\n",
        "        return len(self.texts)\n",
        "\n",
        "    def __getitem__(self, idx):\n",
        "        text = str(self.texts[idx])\n",
        "        inputs = self.tokenizer.encode_plus(\n",
        "            text,\n",
        "            add_special_tokens=True,\n",
        "            max_length=self.max_len,\n",
        "            padding='max_length',\n",
        "            truncation=True,\n",
        "            return_attention_mask=True,\n",
        "            return_tensors='pt'\n",
        "        )\n",
        "        return {\n",
        "            'input_ids': inputs['input_ids'].flatten(),\n",
        "            'attention_mask': inputs['attention_mask'].flatten(),\n",
        "            'labels': torch.tensor(self.labels[idx], dtype=torch.long) # Single label, torch.long\n",
        "        }\n",
        "\n",
        "MODEL_NAME = 'distilbert-base-uncased'\n",
        "MAX_LEN = 256\n",
        "BATCH_SIZE = 16\n",
        "EPOCHS = 4\n",
        "LEARNING_RATE = 2e-5\n",
        "\n",
        "tokenizer = AutoTokenizer.from_pretrained(MODEL_NAME)\n",
        "\n",
        "train_texts, val_texts, train_labels, val_labels = train_test_split(\n",
        "    train_texts, train_labels, test_size=0.2, random_state=42\n",
        ")\n",
        "\n",
        "train_dataset = ToxicDataset(train_texts, train_labels, tokenizer, MAX_LEN)\n",
        "val_dataset = ToxicDataset(val_texts, val_labels, tokenizer, MAX_LEN)\n",
        "\n",
        "train_dataloader = DataLoader(train_dataset, batch_size=BATCH_SIZE, shuffle=True)\n",
        "val_dataloader = DataLoader(val_dataset, batch_size=BATCH_SIZE)"
      ],
      "metadata": {
        "id": "gc24cgmyGx61",
        "colab": {
          "base_uri": "https://localhost:8080/"
        },
        "outputId": "e2ff6f07-d2ba-499b-cea4-124d39871898"
      },
      "execution_count": null,
      "outputs": [
        {
          "output_type": "stream",
          "name": "stderr",
          "text": [
            "/usr/local/lib/python3.10/dist-packages/huggingface_hub/utils/_auth.py:94: UserWarning: \n",
            "The secret `HF_TOKEN` does not exist in your Colab secrets.\n",
            "To authenticate with the Hugging Face Hub, create a token in your settings tab (https://huggingface.co/settings/tokens), set it as secret in your Google Colab and restart your session.\n",
            "You will be able to reuse this secret in all of your notebooks.\n",
            "Please note that authentication is recommended but still optional to access public models or datasets.\n",
            "  warnings.warn(\n"
          ]
        }
      ]
    },
    {
      "cell_type": "code",
      "source": [
        "# 6. Model, Optimizer, Loss (Single-Label)\n",
        "model = AutoModelForSequenceClassification.from_pretrained(MODEL_NAME, num_labels=2) # 2 labels (toxic/not toxic)\n",
        "device = torch.device(\"cuda\" if torch.cuda.is_available() else \"cpu\")\n",
        "model.to(device)\n",
        "\n",
        "optimizer = AdamW(model.parameters(), lr=LEARNING_RATE)\n",
        "loss_fn = nn.CrossEntropyLoss() # Correct loss function for single-label\n"
      ],
      "metadata": {
        "colab": {
          "base_uri": "https://localhost:8080/"
        },
        "id": "yHWQO9onG7yx",
        "outputId": "ed239b6e-5504-49fb-f14d-355815c09189"
      },
      "execution_count": null,
      "outputs": [
        {
          "output_type": "stream",
          "name": "stderr",
          "text": [
            "Some weights of DistilBertForSequenceClassification were not initialized from the model checkpoint at distilbert-base-uncased and are newly initialized: ['classifier.bias', 'classifier.weight', 'pre_classifier.bias', 'pre_classifier.weight']\n",
            "You should probably TRAIN this model on a down-stream task to be able to use it for predictions and inference.\n",
            "/usr/local/lib/python3.10/dist-packages/transformers/optimization.py:591: FutureWarning: This implementation of AdamW is deprecated and will be removed in a future version. Use the PyTorch implementation torch.optim.AdamW instead, or set `no_deprecation_warning=True` to disable this warning\n",
            "  warnings.warn(\n"
          ]
        }
      ]
    },
    {
      "cell_type": "code",
      "source": [
        "# 7. Training Loop\n",
        "for epoch in range(EPOCHS):\n",
        "    model.train()\n",
        "    total_loss = 0\n",
        "    for batch in train_dataloader:\n",
        "        input_ids = batch['input_ids'].to(device)\n",
        "        attention_mask = batch['attention_mask'].to(device)\n",
        "        labels = batch['labels'].to(device)\n",
        "\n",
        "        optimizer.zero_grad()\n",
        "        outputs = model(input_ids, attention_mask=attention_mask)\n",
        "        loss = loss_fn(outputs.logits, labels)\n",
        "        loss.backward()\n",
        "        optimizer.step()\n",
        "        total_loss += loss.item()\n",
        "    print(f\"Epoch {epoch+1}/{EPOCHS}, Training Loss: {total_loss/len(train_dataloader)}\")\n",
        "\n",
        "    model.eval()\n",
        "    val_loss = 0\n",
        "    with torch.no_grad():\n",
        "        for batch in val_dataloader:\n",
        "            input_ids = batch['input_ids'].to(device)\n",
        "            attention_mask = batch['attention_mask'].to(device)\n",
        "            labels = batch['labels'].to(device)\n",
        "            outputs = model(input_ids, attention_mask=attention_mask)\n",
        "            loss = loss_fn(outputs.logits, labels)\n",
        "            val_loss += loss.item()\n",
        "    print(f\"Epoch {epoch+1}/{EPOCHS}, Validation Loss: {val_loss/len(val_dataloader)}\")\n",
        "\n",
        "\n",
        "torch.save(model.state_dict(), 'toxic_comment_model.pth')\n",
        "print(\"Training finished. Model saved as toxic_comment_model.pth\")\n"
      ],
      "metadata": {
        "colab": {
          "base_uri": "https://localhost:8080/"
        },
        "id": "17cCmzzhHBOI",
        "outputId": "d08ff17f-45a5-4b43-e072-1e9a14f07608"
      },
      "execution_count": null,
      "outputs": [
        {
          "output_type": "stream",
          "name": "stdout",
          "text": [
            "Epoch 1/4, Training Loss: 0.6167884469032288\n",
            "Epoch 1/4, Validation Loss: 0.47312720119953156\n",
            "Epoch 2/4, Training Loss: 0.45919032096862794\n",
            "Epoch 2/4, Validation Loss: 0.28194478154182434\n",
            "Epoch 3/4, Training Loss: 0.3945368051528931\n",
            "Epoch 3/4, Validation Loss: 0.19137100130319595\n",
            "Epoch 4/4, Training Loss: 0.3499722361564636\n",
            "Epoch 4/4, Validation Loss: 0.1707979217171669\n",
            "Training finished. Model saved as toxic_comment_model.pth\n"
          ]
        }
      ]
    },
    {
      "cell_type": "code",
      "source": [
        "# 8. Inference\n",
        "def predict(text):\n",
        "    inputs = tokenizer.encode_plus(\n",
        "        text,\n",
        "        add_special_tokens=True,\n",
        "        max_length=MAX_LEN,\n",
        "        padding='max_length',\n",
        "        truncation=True,\n",
        "        return_attention_mask=True,\n",
        "        return_tensors='pt'\n",
        "    ).to(device)\n",
        "\n",
        "    with torch.no_grad():\n",
        "        outputs = model(**inputs)\n",
        "\n",
        "    probabilities = torch.nn.functional.softmax(outputs.logits, dim=-1)\n",
        "    predicted_class = torch.argmax(probabilities).item()\n",
        "    return predicted_class, probabilities[0][1].item() #Returns the probability of the positive class(toxic)\n",
        "\n",
        "# Store predictions here\n",
        "predicted_classes = []\n",
        "toxicity_probs = []\n",
        "\n",
        "num_predictions = min(len(test_texts),100) #Limit to 100 for comparison\n",
        "for i in range(num_predictions):\n",
        "    text = test_texts[i]\n",
        "    predicted_class, toxicity_prob = predict(text)\n",
        "    predicted_classes.append(predicted_class)\n",
        "    toxicity_probs.append(toxicity_prob)\n",
        "\n",
        "    print(f\"Text: {text[:50]}...\")\n",
        "    print(f\"Predicted Class: {predicted_class}\")\n",
        "    print(f\"Toxicity Probability: {toxicity_prob:.4f}\")\n",
        "    if test_labels is not None:\n",
        "        if i < len(test_labels):\n",
        "            print(f\"True Label: {test_labels[i]}\")\n",
        "        else:\n",
        "            print(\"No true label available for this example\")\n",
        "    print(\"-\" * 20)"
      ],
      "metadata": {
        "colab": {
          "base_uri": "https://localhost:8080/"
        },
        "id": "0uZXavvII11b",
        "outputId": "e1a6df4e-502e-4d6b-d54d-b8cc832af369"
      },
      "execution_count": null,
      "outputs": [
        {
          "output_type": "stream",
          "name": "stdout",
          "text": [
            "Text: When you have Conservative members now feeling saf...\n",
            "Predicted Class: 0\n",
            "Toxicity Probability: 0.1178\n",
            "--------------------\n",
            "Text: That's one of the problem, as Germany sent out the...\n",
            "Predicted Class: 0\n",
            "Toxicity Probability: 0.1421\n",
            "--------------------\n",
            "Text: Yesshe is, and if she was always and only referred...\n",
            "Predicted Class: 0\n",
            "Toxicity Probability: 0.1176\n",
            "--------------------\n",
            "Text: There is nothing honourable about Stephen Harper....\n",
            "Predicted Class: 0\n",
            "Toxicity Probability: 0.1365\n",
            "--------------------\n",
            "Text: What a pathetic piece of writing. I have no respec...\n",
            "Predicted Class: 0\n",
            "Toxicity Probability: 0.1987\n",
            "--------------------\n",
            "Text: Bernie Sanders is the only one telling the truth t...\n",
            "Predicted Class: 0\n",
            "Toxicity Probability: 0.1385\n",
            "--------------------\n",
            "Text: But you see how a person's rights (to live or to s...\n",
            "Predicted Class: 0\n",
            "Toxicity Probability: 0.1120\n",
            "--------------------\n",
            "Text: If only Mr Tory wasn't it should read.....\n",
            "Predicted Class: 0\n",
            "Toxicity Probability: 0.1375\n",
            "--------------------\n",
            "Text: There are plenty of bands that have demonstrated s...\n",
            "Predicted Class: 0\n",
            "Toxicity Probability: 0.1282\n",
            "--------------------\n",
            "Text: OK, I'll state a simple premise: fossil fuels are ...\n",
            "Predicted Class: 0\n",
            "Toxicity Probability: 0.0864\n",
            "--------------------\n",
            "Text: Women are not sexually superior to men. They are s...\n",
            "Predicted Class: 0\n",
            "Toxicity Probability: 0.1636\n",
            "--------------------\n",
            "Text: Hey John, very well written comment... no solution...\n",
            "Predicted Class: 0\n",
            "Toxicity Probability: 0.1043\n",
            "--------------------\n",
            "Text: Someone with Boogey's level of education can't aff...\n",
            "Predicted Class: 0\n",
            "Toxicity Probability: 0.1334\n",
            "--------------------\n",
            "Text: What all these have to do with Doug's excellent pi...\n",
            "Predicted Class: 0\n",
            "Toxicity Probability: 0.0997\n",
            "--------------------\n",
            "Text: I saw Bibi interviewed on CNN yesterday. He is an ...\n",
            "Predicted Class: 0\n",
            "Toxicity Probability: 0.1215\n",
            "--------------------\n",
            "Text: And falling....\n",
            "Predicted Class: 0\n",
            "Toxicity Probability: 0.1847\n",
            "--------------------\n",
            "Text: Just like Unions expected favours in return....\n",
            "Predicted Class: 0\n",
            "Toxicity Probability: 0.1465\n",
            "--------------------\n",
            "Text: P_Smith, for people who never heard anything but p...\n",
            "Predicted Class: 0\n",
            "Toxicity Probability: 0.1104\n",
            "--------------------\n",
            "Text: How Mr. Harper and upon who's back...\n",
            "Predicted Class: 0\n",
            "Toxicity Probability: 0.1283\n",
            "--------------------\n",
            "Text: Sheep, it's trump who is trying to kill free speec...\n",
            "Predicted Class: 0\n",
            "Toxicity Probability: 0.1167\n",
            "--------------------\n",
            "Text: That is a supposition as opposed to the certainty ...\n",
            "Predicted Class: 0\n",
            "Toxicity Probability: 0.1267\n",
            "--------------------\n",
            "Text: I concur. I served 20 years in peacetime. NOT to b...\n",
            "Predicted Class: 0\n",
            "Toxicity Probability: 0.1062\n",
            "--------------------\n",
            "Text: Truthops? More like Russian propaganda ops....\n",
            "Predicted Class: 0\n",
            "Toxicity Probability: 0.1656\n",
            "--------------------\n",
            "Text: There is a man in the United States by the name of...\n",
            "Predicted Class: 0\n",
            "Toxicity Probability: 0.1098\n",
            "--------------------\n",
            "Text: What does that even mean Bob ?!...\n",
            "Predicted Class: 0\n",
            "Toxicity Probability: 0.1631\n",
            "--------------------\n",
            "Text: Heard of King James? Jacques is French for James....\n",
            "Predicted Class: 0\n",
            "Toxicity Probability: 0.1380\n",
            "--------------------\n",
            "Text: 'So was everybody else'You almost got that one acr...\n",
            "Predicted Class: 0\n",
            "Toxicity Probability: 0.1506\n",
            "--------------------\n",
            "Text: And what 'global warming' would you be referring t...\n",
            "Predicted Class: 0\n",
            "Toxicity Probability: 0.0853\n",
            "--------------------\n",
            "Text: Let's call it like it is: Harper is pandering to r...\n",
            "Predicted Class: 0\n",
            "Toxicity Probability: 0.1299\n",
            "--------------------\n",
            "Text: Old Banister: I suggest you look up the article in...\n",
            "Predicted Class: 0\n",
            "Toxicity Probability: 0.0938\n",
            "--------------------\n",
            "Text: You think you are wrong - people are perfectly awa...\n",
            "Predicted Class: 0\n",
            "Toxicity Probability: 0.1659\n",
            "--------------------\n",
            "Text: You assume the alternative to pipelines is oil by ...\n",
            "Predicted Class: 0\n",
            "Toxicity Probability: 0.1069\n",
            "--------------------\n",
            "Text: I know a great many people who do not believe that...\n",
            "Predicted Class: 0\n",
            "Toxicity Probability: 0.1426\n",
            "--------------------\n",
            "Text: Well Susan, where do you go from here?...\n",
            "Predicted Class: 0\n",
            "Toxicity Probability: 0.1488\n",
            "--------------------\n",
            "Text: They can advertise in bars but they still need to ...\n",
            "Predicted Class: 0\n",
            "Toxicity Probability: 0.1314\n",
            "--------------------\n",
            "Text: Sit down, Stevie....\n",
            "Predicted Class: 0\n",
            "Toxicity Probability: 0.1443\n",
            "--------------------\n",
            "Text: Okay fascist....\n",
            "Predicted Class: 0\n",
            "Toxicity Probability: 0.1853\n",
            "--------------------\n",
            "Text: How's Harper's failed pipelines, 8 deficits, two r...\n",
            "Predicted Class: 0\n",
            "Toxicity Probability: 0.1110\n",
            "--------------------\n",
            "Text: 'the truth will be told then...'Oh, come on! Will ...\n",
            "Predicted Class: 0\n",
            "Toxicity Probability: 0.1003\n",
            "--------------------\n",
            "Text: In a Democracy that's allowed....\n",
            "Predicted Class: 0\n",
            "Toxicity Probability: 0.1565\n",
            "--------------------\n",
            "Text: But the thing is that 82% of us DON'T want it. Tha...\n",
            "Predicted Class: 0\n",
            "Toxicity Probability: 0.1039\n",
            "--------------------\n",
            "Text: Well written analysis of Mulcair. There is too muc...\n",
            "Predicted Class: 0\n",
            "Toxicity Probability: 0.1056\n",
            "--------------------\n",
            "Text: So you are agreeing with me that Yakabuski is just...\n",
            "Predicted Class: 0\n",
            "Toxicity Probability: 0.1424\n",
            "--------------------\n",
            "Text: ...and the Arctic ice cap has increased by 29%. Lo...\n",
            "Predicted Class: 0\n",
            "Toxicity Probability: 0.1176\n",
            "--------------------\n",
            "Text: By American standards Obama is a radical progressi...\n",
            "Predicted Class: 0\n",
            "Toxicity Probability: 0.1717\n",
            "--------------------\n",
            "Text: This column serves as an unintended backhand to th...\n",
            "Predicted Class: 0\n",
            "Toxicity Probability: 0.1328\n",
            "--------------------\n",
            "Text: No. It's not about the Roman Catholic faith. It's ...\n",
            "Predicted Class: 0\n",
            "Toxicity Probability: 0.1282\n",
            "--------------------\n",
            "Text: miss: right-wingers are viagra-starved wet blanket...\n",
            "Predicted Class: 0\n",
            "Toxicity Probability: 0.1492\n",
            "--------------------\n",
            "Text: Probably true and very sad. Canada has some stupid...\n",
            "Predicted Class: 0\n",
            "Toxicity Probability: 0.1345\n",
            "--------------------\n",
            "Text: PP lecturing about respect for democracy is someth...\n",
            "Predicted Class: 0\n",
            "Toxicity Probability: 0.1251\n",
            "--------------------\n",
            "Text: It is said that the road to disaster is lined by g...\n",
            "Predicted Class: 0\n",
            "Toxicity Probability: 0.1117\n",
            "--------------------\n",
            "Text: It's typically canadian. Racism behind the compute...\n",
            "Predicted Class: 0\n",
            "Toxicity Probability: 0.1520\n",
            "--------------------\n",
            "Text: Thats what Comrade Stalin said and Comrade (I mean...\n",
            "Predicted Class: 0\n",
            "Toxicity Probability: 0.1580\n",
            "--------------------\n",
            "Text: Nonsense. Quebec is special, and deserves special ...\n",
            "Predicted Class: 0\n",
            "Toxicity Probability: 0.1358\n",
            "--------------------\n",
            "Text: What \"treason\" was that? Khadr as far as we have b...\n",
            "Predicted Class: 0\n",
            "Toxicity Probability: 0.1202\n",
            "--------------------\n",
            "Text: Advanced case....\n",
            "Predicted Class: 0\n",
            "Toxicity Probability: 0.1299\n",
            "--------------------\n",
            "Text: What non-racist and foreign policies do you propos...\n",
            "Predicted Class: 0\n",
            "Toxicity Probability: 0.1558\n",
            "--------------------\n",
            "Text: The easiest solution is to grow thick skin and kee...\n",
            "Predicted Class: 0\n",
            "Toxicity Probability: 0.1145\n",
            "--------------------\n",
            "Text: The Liberals have failed Canadians utterly on this...\n",
            "Predicted Class: 0\n",
            "Toxicity Probability: 0.1334\n",
            "--------------------\n",
            "Text: The no-cost solution: Reject immigration applicant...\n",
            "Predicted Class: 0\n",
            "Toxicity Probability: 0.1219\n",
            "--------------------\n",
            "Text: Funny thing is, efirla2, Jon StewarT probably woul...\n",
            "Predicted Class: 0\n",
            "Toxicity Probability: 0.1144\n",
            "--------------------\n",
            "Text: Nominally 5 Liberal, but the BC Liberals are Liber...\n",
            "Predicted Class: 0\n",
            "Toxicity Probability: 0.1148\n",
            "--------------------\n",
            "Text: the purpose of this op ed is to ensure corporate s...\n",
            "Predicted Class: 0\n",
            "Toxicity Probability: 0.1508\n",
            "--------------------\n",
            "Text: takes two to tango. Read my recent input to live i...\n",
            "Predicted Class: 0\n",
            "Toxicity Probability: 0.1115\n",
            "--------------------\n",
            "Text: Permanent revolution = Trotsky....\n",
            "Predicted Class: 0\n",
            "Toxicity Probability: 0.1632\n",
            "--------------------\n",
            "Text: so the authors want a one party democracy in Canad...\n",
            "Predicted Class: 0\n",
            "Toxicity Probability: 0.1515\n",
            "--------------------\n",
            "Text: Is this tripe the G&M or the Sun? Sorry, but stand...\n",
            "Predicted Class: 0\n",
            "Toxicity Probability: 0.1251\n",
            "--------------------\n",
            "Text: He wants his Oxycontin to be free, again!...\n",
            "Predicted Class: 0\n",
            "Toxicity Probability: 0.1512\n",
            "--------------------\n",
            "Text: How would anyone with any sense of probity appoint...\n",
            "Predicted Class: 0\n",
            "Toxicity Probability: 0.1303\n",
            "--------------------\n",
            "Text: You mean you never heard of the 'highway of heroes...\n",
            "Predicted Class: 0\n",
            "Toxicity Probability: 0.1205\n",
            "--------------------\n",
            "Text: Agreed! Haven't done it in years. The Grind is the...\n",
            "Predicted Class: 0\n",
            "Toxicity Probability: 0.1142\n",
            "--------------------\n",
            "Text: Harper did nothing ,like Chretien did before him ,...\n",
            "Predicted Class: 0\n",
            "Toxicity Probability: 0.1168\n",
            "--------------------\n",
            "Text: '... when natural and man-made disasters are someh...\n",
            "Predicted Class: 0\n",
            "Toxicity Probability: 0.1107\n",
            "--------------------\n",
            "Text: History has taught us that anyone who compares a s...\n",
            "Predicted Class: 0\n",
            "Toxicity Probability: 0.1512\n",
            "--------------------\n",
            "Text: Let me see, Harper and the Conservatives, or the d...\n",
            "Predicted Class: 0\n",
            "Toxicity Probability: 0.1220\n",
            "--------------------\n",
            "Text: Sadly, a vote for Trump is a protest vote by peopl...\n",
            "Predicted Class: 0\n",
            "Toxicity Probability: 0.1237\n",
            "--------------------\n",
            "Text: Ham: must you always be the one to rain on the par...\n",
            "Predicted Class: 0\n",
            "Toxicity Probability: 0.1330\n",
            "--------------------\n",
            "Text: The HATER Jack trolling as usual. Dismal handling,...\n",
            "Predicted Class: 0\n",
            "Toxicity Probability: 0.1172\n",
            "--------------------\n",
            "Text: Wente is popular because she does not lean LeftMos...\n",
            "Predicted Class: 0\n",
            "Toxicity Probability: 0.1484\n",
            "--------------------\n",
            "Text: One of Saudia Arabia's best allies is Israel....\n",
            "Predicted Class: 0\n",
            "Toxicity Probability: 0.1588\n",
            "--------------------\n",
            "Text: and look what a mess he made of HIS life ......\n",
            "Predicted Class: 0\n",
            "Toxicity Probability: 0.1574\n",
            "--------------------\n",
            "Text: What? http://www.nytimes.com/2009/02/27/world/amer...\n",
            "Predicted Class: 0\n",
            "Toxicity Probability: 0.0840\n",
            "--------------------\n",
            "Text: So he went? What exactly did he do, with time/pass...\n",
            "Predicted Class: 0\n",
            "Toxicity Probability: 0.1178\n",
            "--------------------\n",
            "Text: What a maroon!...\n",
            "Predicted Class: 0\n",
            "Toxicity Probability: 0.2332\n",
            "--------------------\n",
            "Text: You left out a very important fact. If the opposit...\n",
            "Predicted Class: 0\n",
            "Toxicity Probability: 0.0988\n",
            "--------------------\n",
            "Text: Progressives are guided by hatered....\n",
            "Predicted Class: 0\n",
            "Toxicity Probability: 0.1862\n",
            "--------------------\n",
            "Text: are you kidding. what a facile statement coming fr...\n",
            "Predicted Class: 0\n",
            "Toxicity Probability: 0.1524\n",
            "--------------------\n",
            "Text: Go to your room!...\n",
            "Predicted Class: 0\n",
            "Toxicity Probability: 0.2151\n",
            "--------------------\n",
            "Text: Too bad the SC has twisted that into a pretzel....\n",
            "Predicted Class: 0\n",
            "Toxicity Probability: 0.1721\n",
            "--------------------\n",
            "Text: it's a good song. Really reminds me of the sound M...\n",
            "Predicted Class: 0\n",
            "Toxicity Probability: 0.1710\n",
            "--------------------\n",
            "Text: He is a former Conservative candidate ......\n",
            "Predicted Class: 0\n",
            "Toxicity Probability: 0.1539\n",
            "--------------------\n",
            "Text: Will any of your \"examples\" fix Ontario's tax, def...\n",
            "Predicted Class: 0\n",
            "Toxicity Probability: 0.1051\n",
            "--------------------\n",
            "Text: Wells aid!...\n",
            "Predicted Class: 0\n",
            "Toxicity Probability: 0.2049\n",
            "--------------------\n",
            "Text: I agree. Now that I'm older I can't read so well a...\n",
            "Predicted Class: 0\n",
            "Toxicity Probability: 0.1248\n",
            "--------------------\n",
            "Text: At every level, public health doctors have the aut...\n",
            "Predicted Class: 0\n",
            "Toxicity Probability: 0.1159\n",
            "--------------------\n",
            "Text: Perhaps it is time for the Russians to have a real...\n",
            "Predicted Class: 0\n",
            "Toxicity Probability: 0.1540\n",
            "--------------------\n",
            "Text: I cancelled as well. Want hockey? Go to hockeystre...\n",
            "Predicted Class: 0\n",
            "Toxicity Probability: 0.1129\n",
            "--------------------\n",
            "Text: I think the answer to your question is 'yes'....\n",
            "Predicted Class: 0\n",
            "Toxicity Probability: 0.1198\n",
            "--------------------\n",
            "Text: What happened to the 96 Million dollars thrown awa...\n",
            "Predicted Class: 0\n",
            "Toxicity Probability: 0.1278\n",
            "--------------------\n",
            "Text: Certainly Minister Philpott could be making more m...\n",
            "Predicted Class: 0\n",
            "Toxicity Probability: 0.1132\n",
            "--------------------\n"
          ]
        }
      ]
    },
    {
      "cell_type": "code",
      "source": [
        "# Example Usage with an arbitary new sentence\n",
        "test_text = \"do you love me or not\"\n",
        "predicted_class, toxicity_prob = predict(test_text)\n",
        "print(f\"Test Text: {test_text}\")\n",
        "print(f\"Predicted Class: {predicted_class}\")\n",
        "print(f\"Toxicity Probability: {toxicity_prob:.4f}\")\n",
        "\n",
        "test_text = \"i never loved you\"\n",
        "predicted_class, toxicity_prob = predict(test_text)\n",
        "print(f\"Test Text: {test_text}\")\n",
        "print(f\"Predicted Class: {predicted_class}\")\n",
        "print(f\"Toxicity Probability: {toxicity_prob:.4f}\")\n",
        "\n",
        "test_text = \"you make me miss my ex\"\n",
        "predicted_class, toxicity_prob = predict(test_text)\n",
        "print(f\"Test Text: {test_text}\")\n",
        "print(f\"Predicted Class: {predicted_class}\")\n",
        "print(f\"Toxicity Probability: {toxicity_prob:.4f}\")\n"
      ],
      "metadata": {
        "colab": {
          "base_uri": "https://localhost:8080/"
        },
        "id": "gd_urgfZZsbS",
        "outputId": "c525a49b-5055-460f-c0e3-912e7ea6555b"
      },
      "execution_count": null,
      "outputs": [
        {
          "output_type": "stream",
          "name": "stdout",
          "text": [
            "Test Text: do you love me or not\n",
            "Predicted Class: 0\n",
            "Toxicity Probability: 0.1521\n",
            "Test Text: i never loved you\n",
            "Predicted Class: 0\n",
            "Toxicity Probability: 0.2222\n",
            "Test Text: you make me miss my ex\n",
            "Predicted Class: 0\n",
            "Toxicity Probability: 0.2386\n"
          ]
        }
      ]
    },
    {
      "cell_type": "code",
      "source": [
        "# 9. Create and Save DataFrame (AFTER inference)\n",
        "llm_predictions_df = pd.DataFrame({\n",
        "    \"comment\": test_texts[:num_predictions],  # Use test_texts\n",
        "    \"predicted_class\": predicted_classes,\n",
        "    \"toxicity_prob\": toxicity_probs\n",
        "})\n",
        "\n",
        "llm_predictions_df.to_csv(\"llm_predictions.csv\", index=False)\n",
        "print(\"LLM predictions saved to llm_predictions.csv\")\n"
      ],
      "metadata": {
        "colab": {
          "base_uri": "https://localhost:8080/"
        },
        "id": "LQjOrLsrZwOi",
        "outputId": "8c7439d0-7ac9-4268-917f-79eda65c3b3b"
      },
      "execution_count": null,
      "outputs": [
        {
          "output_type": "stream",
          "name": "stdout",
          "text": [
            "LLM predictions saved to llm_predictions.csv\n"
          ]
        }
      ]
    },
    {
      "cell_type": "code",
      "source": [
        "from google.colab import drive\n",
        "drive.mount('/content/drive')"
      ],
      "metadata": {
        "colab": {
          "base_uri": "https://localhost:8080/"
        },
        "id": "21nRbnMMcnrU",
        "outputId": "ec30118f-d5fa-47d7-f5ac-855ad6b4c5dc"
      },
      "execution_count": null,
      "outputs": [
        {
          "output_type": "stream",
          "name": "stdout",
          "text": [
            "Mounted at /content/drive\n"
          ]
        }
      ]
    },
    {
      "cell_type": "code",
      "source": [
        "!ls"
      ],
      "metadata": {
        "colab": {
          "base_uri": "https://localhost:8080/"
        },
        "id": "bOMRUn_3chxp",
        "outputId": "e52b98e3-2f50-4b9d-e793-55c0f6322e60"
      },
      "execution_count": null,
      "outputs": [
        {
          "output_type": "stream",
          "name": "stdout",
          "text": [
            "drive  llm_predictions.csv  sample_data  toxic_comment_model.pth\n"
          ]
        }
      ]
    },
    {
      "cell_type": "markdown",
      "source": [
        "**END OF LLM CODING**\n",
        "\n"
      ],
      "metadata": {
        "id": "HRyko8p5oVOb"
      }
    },
    {
      "cell_type": "markdown",
      "source": [
        "I wanted to see where can I place a threshold."
      ],
      "metadata": {
        "id": "ooecuD9g89se"
      }
    },
    {
      "cell_type": "code",
      "source": [
        "import matplotlib.pyplot as plt\n",
        "import pandas as pd\n",
        "\n",
        "llm_predictions_df = pd.read_csv(\"llm_predictions.csv\")\n",
        "\n",
        "plt.hist(llm_predictions_df['toxicity_prob'], bins=20, range=(0,1))  # Adjust bins as needed\n",
        "plt.title('Distribution of Toxicity Probabilities')\n",
        "plt.xlabel('Toxicity Probability')\n",
        "plt.ylabel('Frequency')\n",
        "plt.show()"
      ],
      "metadata": {
        "colab": {
          "base_uri": "https://localhost:8080/",
          "height": 472
        },
        "id": "CTkP5pwEobV2",
        "outputId": "49857d5a-1e06-4778-eff0-8d030e991c76"
      },
      "execution_count": null,
      "outputs": [
        {
          "output_type": "display_data",
          "data": {
            "text/plain": [
              "<Figure size 640x480 with 1 Axes>"
            ],
            "image/png": "[encoded data removed]"
          },
          "metadata": {}
        }
      ]
    },
    {
      "cell_type": "code",
      "source": [
        "print(\"Mean Toxicity Probability:\", llm_predictions_df['toxicity_prob'].mean())\n",
        "print(\"Median Toxicity Probability:\", llm_predictions_df['toxicity_prob'].median())\n",
        "print(\"Standard Deviation of Toxicity Probability:\", llm_predictions_df['toxicity_prob'].std())\n",
        "print(\"Min Toxicity Probability:\", llm_predictions_df['toxicity_prob'].min())\n",
        "print(\"Max Toxicity Probability:\", llm_predictions_df['toxicity_prob'].max())"
      ],
      "metadata": {
        "colab": {
          "base_uri": "https://localhost:8080/"
        },
        "id": "1pG2HNLQp0XX",
        "outputId": "8792a1c1-0a28-42ca-f02a-86ef09f2ec13"
      },
      "execution_count": null,
      "outputs": [
        {
          "output_type": "stream",
          "name": "stdout",
          "text": [
            "Mean Toxicity Probability: 0.13480500794947145\n",
            "Median Toxicity Probability: 0.12990324944257736\n",
            "Standard Deviation of Toxicity Probability: 0.027780550386293255\n",
            "Min Toxicity Probability: 0.0840108469128608\n",
            "Max Toxicity Probability: 0.2332378625869751\n"
          ]
        }
      ]
    },
    {
      "cell_type": "code",
      "source": [
        "threshold = 0.5\n",
        "toxic_count = (llm_predictions_df['toxicity_prob'] > threshold).sum()\n",
        "total_count = len(llm_predictions_df)\n",
        "print(f\"Number of comments classified as toxic (threshold = {threshold}): {toxic_count}\")\n",
        "print(f\"Percentage of comments classified as toxic (threshold = {threshold}): {toxic_count / total_count * 100:.2f}%\")"
      ],
      "metadata": {
        "colab": {
          "base_uri": "https://localhost:8080/"
        },
        "id": "hb3uZXaHp4Qa",
        "outputId": "aa8c8878-4a5b-4527-99e8-4dda5a53c16a"
      },
      "execution_count": null,
      "outputs": [
        {
          "output_type": "stream",
          "name": "stdout",
          "text": [
            "Number of comments classified as toxic (threshold = 0.5): 0\n",
            "Percentage of comments classified as toxic (threshold = 0.5): 0.00%\n"
          ]
        }
      ]
    },
    {
      "cell_type": "markdown",
      "source": [
        "I saw that no comment was going to be labeled \"toxic\" so i lowered it to (0.12)"
      ],
      "metadata": {
        "id": "DL-B1ODA9i7c"
      }
    },
    {
      "cell_type": "code",
      "source": [
        "print(len(llm_predictions_df))"
      ],
      "metadata": {
        "colab": {
          "base_uri": "https://localhost:8080/"
        },
        "id": "vSevbUQlpavU",
        "outputId": "31bb75eb-4964-4578-842c-06cf2c99b4f4"
      },
      "execution_count": null,
      "outputs": [
        {
          "output_type": "stream",
          "name": "stdout",
          "text": [
            "100\n"
          ]
        }
      ]
    },
    {
      "cell_type": "code",
      "source": [
        "import pandas as pd\n",
        "import matplotlib.pyplot as plt\n",
        "\n",
        "llm_predictions_df = pd.read_csv(\"llm_predictions.csv\")\n",
        "\n",
        "thresholds = [0.05, 0.1, 0.15, 0.2]\n",
        "\n",
        "for threshold in thresholds:\n",
        "    toxic_count = (llm_predictions_df['toxicity_prob'] > threshold).sum()\n",
        "    total_count = len(llm_predictions_df)\n",
        "    print(f\"Threshold: {threshold}\")\n",
        "    print(f\"Number of comments classified as toxic: {toxic_count}\")\n",
        "    print(f\"Percentage of comments classified as toxic: {toxic_count / total_count * 100:.2f}%\\n\")"
      ],
      "metadata": {
        "colab": {
          "base_uri": "https://localhost:8080/"
        },
        "id": "OrptJq-lsx4y",
        "outputId": "6915c65c-9cf0-46fb-acd1-8559e4466bf2"
      },
      "execution_count": null,
      "outputs": [
        {
          "output_type": "stream",
          "name": "stdout",
          "text": [
            "Threshold: 0.05\n",
            "Number of comments classified as toxic: 100\n",
            "Percentage of comments classified as toxic: 100.00%\n",
            "\n",
            "Threshold: 0.1\n",
            "Number of comments classified as toxic: 94\n",
            "Percentage of comments classified as toxic: 94.00%\n",
            "\n",
            "Threshold: 0.15\n",
            "Number of comments classified as toxic: 29\n",
            "Percentage of comments classified as toxic: 29.00%\n",
            "\n",
            "Threshold: 0.2\n",
            "Number of comments classified as toxic: 3\n",
            "Percentage of comments classified as toxic: 3.00%\n",
            "\n"
          ]
        }
      ]
    }
  ]
}